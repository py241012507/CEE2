{
  "nbformat": 4,
  "nbformat_minor": 0,
  "metadata": {
    "colab": {
      "provenance": [],
      "authorship_tag": "ABX9TyMolPBLfIlbEewx0tddZK82",
      "include_colab_link": true
    },
    "kernelspec": {
      "name": "python3",
      "display_name": "Python 3"
    },
    "language_info": {
      "name": "python"
    }
  },
  "cells": [
    {
      "cell_type": "markdown",
      "metadata": {
        "id": "view-in-github",
        "colab_type": "text"
      },
      "source": [
        "<a href=\"https://colab.research.google.com/github/py241012507/CEE2/blob/main/Aula1.ipynb\" target=\"_parent\"><img src=\"https://colab.research.google.com/assets/colab-badge.svg\" alt=\"Open In Colab\"/></a>"
      ]
    },
    {
      "cell_type": "code",
      "execution_count": null,
      "metadata": {
        "id": "s9SMxzjGGJz2"
      },
      "outputs": [],
      "source": []
    },
    {
      "cell_type": "markdown",
      "source": [
        "#Operações matemáticas"
      ],
      "metadata": {
        "id": "GLvMvhLOGyah"
      }
    },
    {
      "cell_type": "markdown",
      "source": [
        "##Soma"
      ],
      "metadata": {
        "id": "xJX3DERxIDAP"
      }
    },
    {
      "cell_type": "markdown",
      "source": [
        "Este é um **código** que soma $a+b$"
      ],
      "metadata": {
        "id": "48-e5nh-GWsa"
      }
    },
    {
      "cell_type": "code",
      "source": [
        "a=5\n",
        "b=10\n",
        "a+b"
      ],
      "metadata": {
        "colab": {
          "base_uri": "https://localhost:8080/"
        },
        "id": "yOWCz8hDGjWK",
        "outputId": "1abfac03-bdc1-4d30-f6f4-81ff5338b63f"
      },
      "execution_count": 3,
      "outputs": [
        {
          "output_type": "execute_result",
          "data": {
            "text/plain": [
              "15"
            ]
          },
          "metadata": {},
          "execution_count": 3
        }
      ]
    },
    {
      "cell_type": "markdown",
      "source": [
        "##Multiplicação"
      ],
      "metadata": {
        "id": "c4SYdw62IlSG"
      }
    },
    {
      "cell_type": "markdown",
      "source": [
        "Este é um **código** que multiplica $$a×b$$"
      ],
      "metadata": {
        "id": "lB_GOnYQJGGo"
      }
    },
    {
      "cell_type": "code",
      "source": [
        "a=5\n",
        "b=10\n",
        "a*b\n"
      ],
      "metadata": {
        "colab": {
          "base_uri": "https://localhost:8080/"
        },
        "id": "yMISpQ2kJe4e",
        "outputId": "7a6b3545-da1f-4e8b-d9b7-2822678732e9"
      },
      "execution_count": 4,
      "outputs": [
        {
          "output_type": "execute_result",
          "data": {
            "text/plain": [
              "50"
            ]
          },
          "metadata": {},
          "execution_count": 4
        }
      ]
    }
  ]
}